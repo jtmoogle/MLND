{
 "cells": [
  {
   "cell_type": "markdown",
   "metadata": {},
   "source": [
    "# Machine Learning Engineer Nanodegree\n",
    "## Model Evaluation & Validation\n",
    "## Project: Predicting Boston Housing Prices\n",
    "\n",
    ">This is prepared for Udacity Machine Learning Engineer Nanodegree online class  \n",
    ">Author: jtmoogle @github.com     All Rights Reserved  \n",
    ">Date: May 18, 2017  \n",
    "\n",
    "Welcome to the first project of the Machine Learning Engineer Nanodegree! In this notebook, some template code has already been provided for you, and you will need to implement additional functionality to successfully complete this project. You will not need to modify the included code beyond what is requested. Sections that begin with **'Implementation'** in the header indicate that the following block of code will require additional functionality which you must provide. Instructions will be provided for each section and the specifics of the implementation are marked in the code block with a 'TODO' statement. Please be sure to read the instructions carefully!\n",
    "\n",
    "In addition to implementing code, there will be questions that you must answer which relate to the project and your implementation. Each section where you will answer a question is preceded by a **'Question X'** header. Carefully read each question and provide thorough answers in the following text boxes that begin with **'Answer:'**. Your project submission will be evaluated based on your answers to each of the questions and the implementation you provide.  \n",
    "\n",
    ">**Note:** Code and Markdown cells can be executed using the **Shift + Enter** keyboard shortcut. In addition, Markdown cells can be edited by typically double-clicking the cell to enter edit mode."
   ]
  },
  {
   "cell_type": "markdown",
   "metadata": {},
   "source": [
    "## Getting Started\n",
    "In this project, you will evaluate the performance and predictive power of a model that has been trained and tested on data collected from homes in suburbs of Boston, Massachusetts. A model trained on this data that is seen as a *good fit* could then be used to make certain predictions about a home — in particular, its monetary value. This model would prove to be invaluable for someone like a real estate agent who could make use of such information on a daily basis.\n",
    "\n",
    "The dataset for this project originates from the [UCI Machine Learning Repository](https://archive.ics.uci.edu/ml/datasets/Housing). The Boston housing data was collected in 1978 and each of the 506 entries represent aggregated data about 14 features for homes from various suburbs in Boston, Massachusetts. \n",
    "\n",
    "For the purposes of this project, the following preprocessing steps have been made to the dataset:\n",
    "- 16 data points have an `'MEDV'` value of 50.0. These data points likely contain **missing or censored values** and have been removed.\n",
    "- 1 data point has an `'RM'` value of 8.78. This data point can be considered an **outlier** and has been removed.\n",
    "- The features `'RM'`, `'LSTAT'`, `'PTRATIO'`, and `'MEDV'` are essential. The remaining **non-relevant features** have been excluded.\n",
    "- The feature `'MEDV'` has been **multiplicatively scaled** to account for 35 years of market inflation.\n",
    "\n",
    "Run the code cell below to load the Boston housing dataset, along with a few of the necessary Python libraries required for this project. You will know the dataset loaded successfully if the size of the dataset is reported."
   ]
  },
  {
   "cell_type": "code",
   "execution_count": 92,
   "metadata": {
    "collapsed": false
   },
   "outputs": [
    {
     "name": "stdout",
     "output_type": "stream",
     "text": [
      "Boston housing dataset has 489 data points with 4 variables each\n"
     ]
    }
   ],
   "source": [
    "# Import libraries necessary for this project\n",
    "import sys\n",
    "import numpy as np\n",
    "import pandas as pd\n",
    "\n",
    "# Import supplementary visualizations code visuals.py\n",
    "import visuals as vs\n",
    "\n",
    "# Pretty display for notebooks\n",
    "%matplotlib inline\n",
    "\n",
    "# FYI only\n",
    "from IPython.display import display # Allows the use of display() for DataFrames\n",
    "debug=False; \n",
    "fyi=True;\n",
    "\n",
    "# Load the Boston housing dataset\n",
    "data = pd.read_csv('housing.csv')\n",
    "prices = data['MEDV']\n",
    "features = data.drop('MEDV', axis = 1)\n",
    "\n",
    "# Success\n",
    "print (\"Boston housing dataset has {} data points with {} variables each\".format( *data.shape))"
   ]
  },
  {
   "cell_type": "markdown",
   "metadata": {},
   "source": [
    "## Data Exploration\n",
    "In this first section of this project, you will make a cursory investigation about the Boston housing data and provide your observations. Familiarizing yourself with the data through an explorative process is a fundamental practice to help you better understand and justify your results.\n",
    "\n",
    "Since the main goal of this project is to construct a working model which has the capability of predicting the value of houses, we will need to separate the dataset into **features** and the **target variable**. The **features**, `'RM'`, `'LSTAT'`, and `'PTRATIO'`, give us quantitative information about each data point. The **target variable**, `'MEDV'`, will be the variable we seek to predict. These are stored in `features` and `prices`, respectively."
   ]
  },
  {
   "cell_type": "markdown",
   "metadata": {},
   "source": [
    "### Implementation: Calculate Statistics\n",
    "For your very first coding implementation, you will calculate descriptive statistics about the Boston housing prices. Since `numpy` has already been imported for you, use this library to perform the necessary calculations. These statistics will be extremely important later on to analyze various prediction results from the constructed model.\n",
    "\n",
    "In the code cell below, you will need to implement the following:\n",
    "- Calculate the minimum, maximum, mean, median, and standard deviation of `'MEDV'`, which is stored in `prices`.\n",
    "  - Store each calculation in their respective variable."
   ]
  },
  {
   "cell_type": "code",
   "execution_count": 93,
   "metadata": {
    "collapsed": false
   },
   "outputs": [
    {
     "name": "stdout",
     "output_type": "stream",
     "text": [
      "Statistics for Boston housing dataset: \n",
      "\n",
      "\tTotal count:  489\n",
      "\tMinimum price: $105,000.00\n",
      "\tMaximum price: $1,024,800.00\n",
      "\tMean price: $454,342.94\n",
      "\tMedian price $438,900.00\n",
      "\tStandard deviation of prices: $165,171.13\n"
     ]
    }
   ],
   "source": [
    "\n",
    "def calc_stats( targe_var ):\n",
    "    \"\"\" Calculates and print minimum, maximum, mean, median, standard deviation of 'MEDV'\n",
    "    based on the chosen data set. \"\"\"\n",
    "    minimum_price = np.min(targe_var) # Minimum price of the data\n",
    "    maximum_price = np.max(targe_var) # Maximum price of the data\n",
    "    mean_price = np.mean(targe_var)  # Mean price of the data\n",
    "    median_price = np.median(targe_var) # Median price of the data\n",
    "    std_price = np.std(targe_var)    # Standard deviation of prices of the data\n",
    "\n",
    "    # Show the calculated statistics\n",
    "    print (\"Statistics for Boston housing dataset: \\n\")\n",
    "    print (\"\\tTotal count: \", targe_var.shape[0])\n",
    "    print (\"\\tMinimum price: ${:,.2f}\".format(minimum_price))\n",
    "    print (\"\\tMaximum price: ${:,.2f}\".format(maximum_price))\n",
    "    print (\"\\tMean price: ${:,.2f}\".format(mean_price))\n",
    "    print (\"\\tMedian price ${:,.2f}\".format(median_price))\n",
    "    print (\"\\tStandard deviation of prices: ${:,.2f}\".format(std_price))\n",
    "\n",
    "# calculate prices variable\n",
    "calc_stats( prices )"
   ]
  },
  {
   "cell_type": "markdown",
   "metadata": {},
   "source": [
    "### Question 1 - Feature Observation\n",
    "As a reminder, we are using three features from the Boston housing dataset: `'RM'`, `'LSTAT'`, and `'PTRATIO'`. For each data point (neighborhood):\n",
    "- `'RM'` is the average number of rooms among homes in the neighborhood.\n",
    "- `'LSTAT'` is the percentage of homeowners in the neighborhood considered \"lower class\" (working poor).\n",
    "- `'PTRATIO'` is the ratio of students to teachers in primary and secondary schools in the neighborhood.\n",
    "\n",
    "_Using your intuition, for each of the three features above, do you think that an increase in the value of that feature would lead to an **increase** in the value of `'MEDV'` or a **decrease** in the value of `'MEDV'`? Justify your answer for each._  \n",
    "**Hint:** Would you expect a home that has an `'RM'` value of 6 be worth more or less than a home that has an `'RM'` value of 7?"
   ]
  },
  {
   "cell_type": "code",
   "execution_count": 94,
   "metadata": {
    "collapsed": false
   },
   "outputs": [
    {
     "data": {
      "text/plain": [
       "' entire data.describe= '"
      ]
     },
     "metadata": {},
     "output_type": "display_data"
    },
    {
     "data": {
      "text/html": [
       "<div>\n",
       "<table border=\"1\" class=\"dataframe\">\n",
       "  <thead>\n",
       "    <tr style=\"text-align: right;\">\n",
       "      <th></th>\n",
       "      <th>RM</th>\n",
       "      <th>LSTAT</th>\n",
       "      <th>PTRATIO</th>\n",
       "      <th>MEDV</th>\n",
       "    </tr>\n",
       "  </thead>\n",
       "  <tbody>\n",
       "    <tr>\n",
       "      <th>count</th>\n",
       "      <td>489.000000</td>\n",
       "      <td>489.000000</td>\n",
       "      <td>489.000000</td>\n",
       "      <td>4.890000e+02</td>\n",
       "    </tr>\n",
       "    <tr>\n",
       "      <th>mean</th>\n",
       "      <td>6.240288</td>\n",
       "      <td>12.939632</td>\n",
       "      <td>18.516564</td>\n",
       "      <td>4.543429e+05</td>\n",
       "    </tr>\n",
       "    <tr>\n",
       "      <th>std</th>\n",
       "      <td>0.643650</td>\n",
       "      <td>7.081990</td>\n",
       "      <td>2.111268</td>\n",
       "      <td>1.653403e+05</td>\n",
       "    </tr>\n",
       "    <tr>\n",
       "      <th>min</th>\n",
       "      <td>3.561000</td>\n",
       "      <td>1.980000</td>\n",
       "      <td>12.600000</td>\n",
       "      <td>1.050000e+05</td>\n",
       "    </tr>\n",
       "    <tr>\n",
       "      <th>25%</th>\n",
       "      <td>5.880000</td>\n",
       "      <td>7.370000</td>\n",
       "      <td>17.400000</td>\n",
       "      <td>3.507000e+05</td>\n",
       "    </tr>\n",
       "    <tr>\n",
       "      <th>50%</th>\n",
       "      <td>6.185000</td>\n",
       "      <td>11.690000</td>\n",
       "      <td>19.100000</td>\n",
       "      <td>4.389000e+05</td>\n",
       "    </tr>\n",
       "    <tr>\n",
       "      <th>75%</th>\n",
       "      <td>6.575000</td>\n",
       "      <td>17.120000</td>\n",
       "      <td>20.200000</td>\n",
       "      <td>5.187000e+05</td>\n",
       "    </tr>\n",
       "    <tr>\n",
       "      <th>max</th>\n",
       "      <td>8.398000</td>\n",
       "      <td>37.970000</td>\n",
       "      <td>22.000000</td>\n",
       "      <td>1.024800e+06</td>\n",
       "    </tr>\n",
       "  </tbody>\n",
       "</table>\n",
       "</div>"
      ],
      "text/plain": [
       "               RM       LSTAT     PTRATIO          MEDV\n",
       "count  489.000000  489.000000  489.000000  4.890000e+02\n",
       "mean     6.240288   12.939632   18.516564  4.543429e+05\n",
       "std      0.643650    7.081990    2.111268  1.653403e+05\n",
       "min      3.561000    1.980000   12.600000  1.050000e+05\n",
       "25%      5.880000    7.370000   17.400000  3.507000e+05\n",
       "50%      6.185000   11.690000   19.100000  4.389000e+05\n",
       "75%      6.575000   17.120000   20.200000  5.187000e+05\n",
       "max      8.398000   37.970000   22.000000  1.024800e+06"
      ]
     },
     "metadata": {},
     "output_type": "display_data"
    },
    {
     "name": "stdout",
     "output_type": "stream",
     "text": [
      "\n",
      "If room is  6\n",
      "Statistics for Boston housing dataset: \n",
      "\n",
      "\tTotal count:  267\n",
      "\tMinimum price: $151,200.00\n",
      "\tMaximum price: $867,300.00\n",
      "\tMean price: $457,933.71\n",
      "\tMedian price $466,200.00\n",
      "\tStandard deviation of prices: $126,136.77\n",
      "\n",
      "If room is  7\n",
      "Statistics for Boston housing dataset: \n",
      "\n",
      "\tTotal count:  44\n",
      "\tMinimum price: $315,000.00\n",
      "\tMaximum price: $1,018,500.00\n",
      "\tMean price: $731,563.64\n",
      "\tMedian price $727,650.00\n",
      "\tStandard deviation of prices: $144,019.62\n"
     ]
    }
   ],
   "source": [
    "if fyi: display (\" entire data.describe= \", data.describe())\n",
    "if debug:\n",
    "    display (\" data.corr= \", data.corr())\n",
    "    display (\" data.cov= \", data.cov())\n",
    "\n",
    "def calc_stats_byrm( rmcnt, showmore=False ):\n",
    "    rm={}\n",
    "    rm = data[ (data.RM < (rmcnt+1)) & (data.RM > rmcnt)]\n",
    "    if showmore: display ( rm.describe() )\n",
    "    print( \"\\nIf room is \", rmcnt)\n",
    "    calc_stats( rm.MEDV )\n",
    "\n",
    "# room of 6 vs 7\n",
    "calc_stats_byrm(6)    \n",
    "calc_stats_byrm(7)    "
   ]
  },
  {
   "cell_type": "markdown",
   "metadata": {},
   "source": [
    "### **Answer: ** \n",
    "\n",
    "The following describes my intuition for conditions if data point (neighborhood) increase or decrease\n",
    ">| My Intuition | RM || LSTAT || PTRATIO | \n",
    "| :------------: | :------------: || :------------: || :------------: | \n",
    "| If data point increase (+) | Likely MEDV increase (+) || Likely MEDV decrease (-) || Likely MEDV decrease (-) | \n",
    "| If data point decrease (-) | Likely MEDV decrease (-) || Likely MEDV increase (+) || Likely MEDV increase (+)| \n",
    "| Justification | When having more rooms, house cost more, likely richer pay more expensive || When having more homeowners work lower level/class jobs, less/low income, likely buy cheaper homes || When having more students per teacher, less school funding/budget available from neighborhood property tax, likely cheaper neighborhood | \n",
    "\n",
    "\n",
    "I would expect a home that has a 'RM' value of 6 be worth LESS than a home that has a 'RM' value of 7.\n",
    "- Room of 6: Mean price: \\$457,933.71, Median price \\$466,200.00 (less, cheaper) \n",
    "- Room of 7: Mean price: \\$731,563.64, Median price \\$727,650.00 (more, expensive)\n"
   ]
  },
  {
   "cell_type": "markdown",
   "metadata": {},
   "source": [
    "----\n",
    "\n",
    "## Developing a Model\n",
    "In this second section of the project, you will develop the tools and techniques necessary for a model to make a prediction. Being able to make accurate evaluations of each model's performance through the use of these tools and techniques helps to greatly reinforce the confidence in your predictions."
   ]
  },
  {
   "cell_type": "markdown",
   "metadata": {},
   "source": [
    "### Implementation: Define a Performance Metric\n",
    "It is difficult to measure the quality of a given model without quantifying its performance over training and testing. This is typically done using some type of performance metric, whether it is through calculating some type of error, the goodness of fit, or some other useful measurement. For this project, you will be calculating the [*coefficient of determination*](http://stattrek.com/statistics/dictionary.aspx?definition=coefficient_of_determination), R<sup>2</sup>, to quantify your model's performance. The coefficient of determination for a model is a useful statistic in regression analysis, as it often describes how \"good\" that model is at making predictions. \n",
    "\n",
    "The values for R<sup>2</sup> range from 0 to 1, which captures the percentage of squared correlation between the predicted and actual values of the **target variable**. A model with an R<sup>2</sup> of 0 is no better than a model that always predicts the *mean* of the target variable, whereas a model with an R<sup>2</sup> of 1 perfectly predicts the target variable. Any value between 0 and 1 indicates what percentage of the target variable, using this model, can be explained by the **features**. _A model can be given a negative R<sup>2</sup> as well, which indicates that the model is **arbitrarily worse** than one that always predicts the mean of the target variable._\n",
    "\n",
    "For the `performance_metric` function in the code cell below, you will need to implement the following:\n",
    "- Use `r2_score` from `sklearn.metrics` to perform a performance calculation between `y_true` and `y_predict`.\n",
    "- Assign the performance score to the `score` variable."
   ]
  },
  {
   "cell_type": "code",
   "execution_count": 95,
   "metadata": {
    "collapsed": false
   },
   "outputs": [],
   "source": [
    "# Import 'r2_score'\n",
    "from sklearn.metrics import r2_score \n",
    "def performance_metric(y_true, y_predict):\n",
    "    \"\"\" Calculates and returns the performance score \n",
    "    between true and predicted values based on the metric chosen. \"\"\"\n",
    "    \n",
    "    # Calculate the performance score between 'y_true' and 'y_predict'  \n",
    "    score = r2_score( y_true, y_predict)  \n",
    "    \n",
    "    # Return the score\n",
    "    return score  "
   ]
  },
  {
   "cell_type": "markdown",
   "metadata": {},
   "source": [
    "### Question 2 - Goodness of Fit\n",
    "Assume that a dataset contains five data points and a model made the following predictions for the target variable:\n",
    "\n",
    "| True Value | Prediction |\n",
    "| :-------------: | :--------: |\n",
    "| 3.0 | 2.5 |\n",
    "| -0.5 | 0.0 |\n",
    "| 2.0 | 2.1 |\n",
    "| 7.0 | 7.8 |\n",
    "| 4.2 | 5.3 |\n",
    "*Would you consider this model to have successfully captured the variation of the target variable? Why or why not?* \n",
    "\n",
    "Run the code cell below to use the `performance_metric` function and calculate this model's coefficient of determination."
   ]
  },
  {
   "cell_type": "code",
   "execution_count": 96,
   "metadata": {
    "collapsed": false
   },
   "outputs": [
    {
     "name": "stdout",
     "output_type": "stream",
     "text": [
      "Model has a coefficient of determination, R^2, of 0.923.\n"
     ]
    }
   ],
   "source": [
    "# Calculate the performance of this model\n",
    "score = performance_metric([3, -0.5, 2, 7, 4.2], [2.5, 0.0, 2.1, 7.8, 5.3])\n",
    "print (\"Model has a coefficient of determination, R^2, of {:.3f}.\".format(score))"
   ]
  },
  {
   "cell_type": "markdown",
   "metadata": {},
   "source": [
    "**Answer:** \n",
    "\n",
    ">The coefficient of determination R^2 value was 0.923 (close to 1), which means 92.3% of the variance in target variables was predictable, and the model had very high accuracy close to True value.  \n",
    "- If only based on R2 value, I would consider this model could have successfully captured the variation of the target variable.  \n",
    "- But this sample size was 5, and too small comparing with the whole population, I would consider **\"to determine later\"** by increasing the sample size into a significant level, recalculating performance metric, and to determine if this model successfully captured or not.\n"
   ]
  },
  {
   "cell_type": "markdown",
   "metadata": {},
   "source": [
    "### Implementation: Shuffle and Split Data\n",
    "Your next implementation requires that you take the Boston housing dataset and split the data into training and testing subsets. Typically, the data is also shuffled into a random order when creating the training and testing subsets to remove any bias in the ordering of the dataset.\n",
    "\n",
    "For the code cell below, you will need to implement the following:\n",
    "- Use `train_test_split` from `sklearn.cross_validation` to shuffle and split the `features` and `prices` data into training and testing sets.\n",
    "  - Split the data into 80% training and 20% testing.\n",
    "  - Set the `random_state` for `train_test_split` to a value of your choice. This ensures results are consistent.\n",
    "- Assign the train and testing splits to `X_train`, `X_test`, `y_train`, and `y_test`."
   ]
  },
  {
   "cell_type": "code",
   "execution_count": 97,
   "metadata": {
    "collapsed": false
   },
   "outputs": [
    {
     "name": "stdout",
     "output_type": "stream",
     "text": [
      "Training and testing split was successful.\n",
      "Count of training set is 391 (79.96%)  testing set is 98  (20.04%)  in total 489.\n"
     ]
    }
   ],
   "source": [
    "# Import 'train_test_split'\n",
    "import sklearn\n",
    "if debug: print( \"..sklearn.__version__ = \", sklearn.__version__ )\n",
    "if (sklearn.__version__[0:4] == \"0.18\") :  # if 0.18\n",
    "    from sklearn.model_selection import train_test_split\n",
    "else:  # if before ver 0.18, import\n",
    "    from sklearn.cross_validation import train_test_split\n",
    "\n",
    "# Shuffle and split the data into 80% training and 20% testing subsets, using 9 for random seed\n",
    "X_train, X_test, y_train, y_test = train_test_split( \n",
    "    features, prices, train_size=0.80, random_state = 99)\n",
    "\n",
    "# Success\n",
    "print (\"Training and testing split was successful.\")\n",
    "if fyi: print (\"Count of training set is {} ({:.2f}%)  testing set is {}  ({:.2f}%)  in total {}.\".format(\n",
    "        X_train.shape[0], 100*X_train.shape[0]/features.shape[0], \n",
    "        X_test.shape[0], 100*X_test.shape[0]/features.shape[0], \n",
    "        features.shape[0] ))\n"
   ]
  },
  {
   "cell_type": "markdown",
   "metadata": {},
   "source": [
    "### Question 3 - Training and Testing\n",
    "*What is the benefit to splitting a dataset into some ratio of training and testing subsets for a learning algorithm?*  \n",
    "**Hint:** What could go wrong with not having a way to test your model?"
   ]
  },
  {
   "cell_type": "markdown",
   "metadata": {},
   "source": [
    "**Answer: **\n",
    "\n",
    ">If the same data distribution was split into training and testing sets, I could assess the quality of my predictive model.  Learn and fit my best predictive model from training set, and validate/assess on testing set like simulating a predictive model on future data that has not yet occurred.\n",
    "- The benefit is that I could avoid **overfitting**, over-predict the outcome.  For example, if my learned model was doing much better on training data than doing on testing data, as result, I could get high accuracy score on my training set and very low accuracy score on test set.  \n",
    "- If I use the common splitting 70% for training set, and 30% for testing set for validating/assessing the performance such as accuracy.  I could optimize my candidate algorithm and adjust features (parameters, variables) against real-world trend\n",
    "\n",
    "If the data is not split, I would use 100% data for training set to learn and fit my best predictive model  \n",
    "- Likely, I would get maximum accuracy on my training data, and no way to test my model.  \n",
    "- My model could memorize my training data pattern (exact input and output pairs), and could not show the real-world trend.  \n"
   ]
  },
  {
   "cell_type": "markdown",
   "metadata": {},
   "source": [
    "----\n",
    "\n",
    "## Analyzing Model Performance\n",
    "In this third section of the project, you'll take a look at several models' learning and testing performances on various subsets of training data. Additionally, you'll investigate one particular algorithm with an increasing `'max_depth'` parameter on the full training set to observe how model complexity affects performance. Graphing your model's performance based on varying criteria can be beneficial in the analysis process, such as visualizing behavior that may not have been apparent from the results alone."
   ]
  },
  {
   "cell_type": "markdown",
   "metadata": {},
   "source": [
    "### Learning Curves\n",
    "The following code cell produces four graphs for a decision tree model with different maximum depths. Each graph visualizes the learning curves of the model for both training and testing as the size of the training set is increased. \n",
    "\n",
    "Note that the shaded region of a learning curve denotes the uncertainty of that curve (measured as the standard deviation). The model is scored on both the training and testing sets using R<sup>2</sup>, the coefficient of determination.  \n",
    "\n",
    "Run the code cell below and use these graphs to answer the following question."
   ]
  },
  {
   "cell_type": "code",
   "execution_count": 98,
   "metadata": {
    "collapsed": false,
    "scrolled": false
   },
   "outputs": [
    {
     "data": {
      "image/png": "[encoded data removed]",
      "text/plain": [
       "<matplotlib.figure.Figure at 0xa9cd1d0>"
      ]
     },
     "metadata": {},
     "output_type": "display_data"
    }
   ],
   "source": [
    "# Produce learning curves for varying training set sizes and maximum depths\n",
    "vs.ModelLearning(features, prices)"
   ]
  },
  {
   "cell_type": "markdown",
   "metadata": {},
   "source": [
    "### Question 4 - Learning the Data\n",
    "*Choose one of the graphs above and state the maximum depth for the model. What happens to the score of the training curve as more training points are added? What about the testing curve? Would having more training points benefit the model?*  \n",
    "**Hint:** Are the learning curves converging to particular scores?"
   ]
  },
  {
   "cell_type": "markdown",
   "metadata": {},
   "source": [
    "**Answer: **\n",
    "\n",
    ">Using the learning curves allows to find out how my model's performance changes (i.e. variance errors or bias error) if adding more training data.  \n",
    "\n",
    ">In the 2nd graph titled max_depth=3, \n",
    ">when training points approached to 50 \n",
    "- The training (red) curve started from very high score of 1, and went down/decreased to score of approx. 0.85\n",
    "- The testing (green) curve started from very low score of 0, and rapidly went up/increased to score of approx. 0.6 \n",
    "- A large gap between both curves were seen between score of 0.6 and 0.85 \n",
    "\n",
    ">If adding more training points to 100\n",
    "- The training curve went down/decreased to score of approx. 0.8 \n",
    "- The testing curve slightly went up/increased to score of approx. 0.7\n",
    "- A smaller gap between both curves were found between score of 0.7 and 0.8\n",
    "\n",
    ">If adding more training points close to 200 or above\n",
    "- The training curve gradually converged to testing curve at score of approx. 0.8\n",
    "- The model might not gain too much benefit from adding more points\n",
    "- A slight gap between both curves were found around score of 0.8.  \n",
    "\n",
    ">Both curves were closed the most between training point of 300 and 350\n"
   ]
  },
  {
   "cell_type": "markdown",
   "metadata": {},
   "source": [
    "### Complexity Curves\n",
    "The following code cell produces a graph for a decision tree model that has been trained and validated on the training data using different maximum depths. The graph produces two complexity curves — one for training and one for validation. Similar to the **learning curves**, the shaded regions of both the complexity curves denote the uncertainty in those curves, and the model is scored on both the training and validation sets using the `performance_metric` function.  \n",
    "\n",
    "Run the code cell below and use this graph to answer the following two questions."
   ]
  },
  {
   "cell_type": "code",
   "execution_count": 100,
   "metadata": {
    "collapsed": false
   },
   "outputs": [
    {
     "data": {
      "image/png": "[encoded data removed]",
      "text/plain": [
       "<matplotlib.figure.Figure at 0x4bb7860>"
      ]
     },
     "metadata": {},
     "output_type": "display_data"
    }
   ],
   "source": [
    "vs.ModelComplexity(X_train, y_train)"
   ]
  },
  {
   "cell_type": "markdown",
   "metadata": {},
   "source": [
    "### Question 5 - Bias-Variance Tradeoff\n",
    "*When the model is trained with a maximum depth of 1, does the model suffer from high bias or from high variance? How about when the model is trained with a maximum depth of 10? What visual cues in the graph justify your conclusions?*  \n",
    "**Hint:** How do you know when a model is suffering from high bias or high variance?"
   ]
  },
  {
   "cell_type": "markdown",
   "metadata": {},
   "source": [
    "**Answer: **\n",
    "\n",
    ">My criteria to determine high bias or high variance was \n",
    "- High variance if a large gap could be found between (red) training score curve and (green) validation score curve.  Most case was because high training score and low validation score \n",
    "- High bias if seeing both curves converging closely, slight small/no gap could be found.  Most case was because low training score and low validation score  \n",
    "\n",
    ">When the model with max_depth = 1, the model could suffer from *high bias*\n",
    "- The training and validation curves started low score of approx. 0.4\n",
    "- Visually, both curves were seen too closed, slight small/no gap were found.  Both training and validation scores are pretty low (0.4).\n",
    "\n",
    ">When the model with max_depth = 10, the model could suffer from *high variance*\n",
    "- The (red) training curve had the perfect score of 1.0, and (green) validation curve only stabilized at score of approx. 0.7\n",
    "- Visually, a large gap was seen between both curves.  High training score, and relatively low validation score"
   ]
  },
  {
   "cell_type": "markdown",
   "metadata": {},
   "source": [
    "### Question 6 - Best-Guess Optimal Model\n",
    "*Which maximum depth do you think results in a model that best generalizes to unseen data? What intuition lead you to this answer?*"
   ]
  },
  {
   "cell_type": "markdown",
   "metadata": {},
   "source": [
    "**Answer: **\n",
    "\n",
    ">I chose the max depth = 4 as my best guess optimal model.  As the model with max_depth = 4\n",
    "- The highest validation score was found at around 0.8, and low variance training score at approx. 0.8.  \n",
    "- Visually, both curves were seen so close together, slight small gap were found.\n"
   ]
  },
  {
   "cell_type": "markdown",
   "metadata": {},
   "source": [
    "-----\n",
    "\n",
    "## Evaluating Model Performance\n",
    "In this final section of the project, you will construct a model and make a prediction on the client's feature set using an optimized model from `fit_model`."
   ]
  },
  {
   "cell_type": "markdown",
   "metadata": {},
   "source": [
    "### Question 7 - Grid Search\n",
    "*What is the grid search technique and how it can be applied to optimize a learning algorithm?*"
   ]
  },
  {
   "cell_type": "markdown",
   "metadata": {},
   "source": [
    "**Answer: **\n",
    "\n",
    ">The grid search allows to select the best of multiple combination by a grid of model parameters.  Involved to train each model, to evaluate how well generalization using cross-validation, and to select the best from performance result.  \n",
    "\n",
    ">In this project example, we performed the algorithm with each max_depth from 1 to 10, compared the each score returned per max depth, and selected the optimal value based on score of max_depth.\n",
    "\n"
   ]
  },
  {
   "cell_type": "markdown",
   "metadata": {},
   "source": [
    "### Question 8 - Cross-Validation\n",
    "*What is the k-fold cross-validation training technique? What benefit does this technique provide for grid search when optimizing a model?*  \n",
    "**Hint:** Much like the reasoning behind having a testing set, what could go wrong with using grid search without a cross-validated set?"
   ]
  },
  {
   "cell_type": "markdown",
   "metadata": {},
   "source": [
    "**Answer: ** \n",
    ">The k-fold cross validation/cv technique involved \n",
    "- to divide entire data into k different samples (aka. bins or folds)\n",
    "- to repeat k times of steps of 1, 2, 3  \n",
    "    - step 1. Train model on (k-1) samples\n",
    "    - step 2. Validate on remaining 1 sample\n",
    "    - step 3. Next to train with different/next (k-1) samples\n",
    "- At end of k iteration, averaged the validation scores into a single score (k averaged validation score)\n",
    "- We ended up to train the model and evaluated on each sample across entire data.  \n",
    "\n",
    ">The benefit using k-fold cv only, the k averaged validation score would be more reliable than one regular single train/test split, and reduce variance from one single split.\n",
    "\n",
    ">The benefit using k-fold cv with grid search, it would find the most optimal set against multiple iterations of each training/testing samples, rather than one train/test split.  This would prevent overfitting, provide better result, reduce the selection bias and reduce the variance.\n"
   ]
  },
  {
   "cell_type": "markdown",
   "metadata": {},
   "source": [
    "### Implementation: Fitting a Model\n",
    "Your final implementation requires that you bring everything together and train a model using the **decision tree algorithm**. To ensure that you are producing an optimized model, you will train the model using the grid search technique to optimize the `'max_depth'` parameter for the decision tree. The `'max_depth'` parameter can be thought of as how many questions the decision tree algorithm is allowed to ask about the data before making a prediction. Decision trees are part of a class of algorithms called *supervised learning algorithms*.\n",
    "\n",
    "In addition, you will find your implementation is using `ShuffleSplit()` for an alternative form of cross-validation (see the `'cv_sets'` variable). While it is not the K-Fold cross-validation technique you describe in **Question 8**, this type of cross-validation technique is just as useful!. The `ShuffleSplit()` implementation below will create 10 (`'n_splits'`) shuffled sets, and for each shuffle, 20% (`'test_size'`) of the data will be used as the *validation set*. While you're working on your implementation, think about the contrasts and similarities it has to the K-fold cross-validation technique.\n",
    "\n",
    "Please note that ShuffleSplit has different parameters in scikit-learn versions 0.17 and 0.18.\n",
    "For the `fit_model` function in the code cell below, you will need to implement the following:\n",
    "- Use [`DecisionTreeRegressor`](http://scikit-learn.org/stable/modules/generated/sklearn.tree.DecisionTreeRegressor.html) from `sklearn.tree` to create a decision tree regressor object.\n",
    "  - Assign this object to the `'regressor'` variable.\n",
    "- Create a dictionary for `'max_depth'` with the values from 1 to 10, and assign this to the `'params'` variable.\n",
    "- Use [`make_scorer`](http://scikit-learn.org/stable/modules/generated/sklearn.metrics.make_scorer.html) from `sklearn.metrics` to create a scoring function object.\n",
    "  - Pass the `performance_metric` function as a parameter to the object.\n",
    "  - Assign this scoring function to the `'scoring_fnc'` variable.\n",
    "- Use [`GridSearchCV`](http://scikit-learn.org/0.17/modules/generated/sklearn.grid_search.GridSearchCV.html) from `sklearn.grid_search` to create a grid search object.\n",
    "  - Pass the variables `'regressor'`, `'params'`, `'scoring_fnc'`, and `'cv_sets'` as parameters to the object. \n",
    "  - Assign the `GridSearchCV` object to the `'grid'` variable."
   ]
  },
  {
   "cell_type": "code",
   "execution_count": 102,
   "metadata": {
    "collapsed": false
   },
   "outputs": [],
   "source": [
    "# Import 'make_scorer', 'DecisionTreeRegressor', and 'GridSearchCV'\n",
    "from sklearn.tree import DecisionTreeRegressor\n",
    "from sklearn.metrics import make_scorer\n",
    "\n",
    "from sklearn.grid_search import GridSearchCV\n",
    "\n",
    "def fit_model(X, y):\n",
    "    \"\"\" Performs grid search over the 'max_depth' parameter for a \n",
    "        decision tree regressor trained on the input data [X, y]. \"\"\"\n",
    "    \n",
    "    # Create cross-validation sets from the training data\n",
    "    n=X.shape[0]  # total count\n",
    "    from sklearn.cross_validation import ShuffleSplit \n",
    "    cv_sets = ShuffleSplit(n, n_iter = 10, test_size = 0.2, random_state = None)\n",
    "    \n",
    "    # Create a decision tree regressor object\n",
    "    regressor = DecisionTreeRegressor()\n",
    "                       \n",
    "    # Create a dictionary for the parameter 'max_depth' with a range from 1 to 10\n",
    "    params = {'max_depth': np.arange(1,11)}\n",
    "\n",
    "    # Transform 'performance_metric' into a scoring function using 'make_scorer' \n",
    "    scoring_fnc =  make_scorer( performance_metric )\n",
    "\n",
    "    # Create the grid search object\n",
    "    grid = GridSearchCV( estimator=regressor, param_grid=params, \\\n",
    "                         scoring=scoring_fnc, cv=cv_sets)\n",
    "\n",
    "    # Fit the grid search object to the data to compute the optimal model\n",
    "    grid = grid.fit(X, y)\n",
    "\n",
    "    # Return the optimal model after fitting the data\n",
    "    return grid.best_estimator_"
   ]
  },
  {
   "cell_type": "markdown",
   "metadata": {},
   "source": [
    "### Making Predictions\n",
    "Once a model has been trained on a given set of data, it can now be used to make predictions on new sets of input data. In the case of a *decision tree regressor*, the model has learned *what the best questions to ask about the input data are*, and can respond with a prediction for the **target variable**. You can use these predictions to gain information about data where the value of the target variable is unknown — such as data the model was not trained on."
   ]
  },
  {
   "cell_type": "markdown",
   "metadata": {},
   "source": [
    "### Question 9 - Optimal Model\n",
    "_What maximum depth does the optimal model have? How does this result compare to your guess in **Question 6**?_  \n",
    "\n",
    "Run the code block below to fit the decision tree regressor to the training data and produce an optimal model."
   ]
  },
  {
   "cell_type": "code",
   "execution_count": 104,
   "metadata": {
    "collapsed": false,
    "scrolled": true
   },
   "outputs": [
    {
     "data": {
      "text/plain": [
       "{'criterion': 'mse',\n",
       " 'max_depth': 4,\n",
       " 'max_features': None,\n",
       " 'max_leaf_nodes': None,\n",
       " 'min_impurity_split': 1e-07,\n",
       " 'min_samples_leaf': 1,\n",
       " 'min_samples_split': 2,\n",
       " 'min_weight_fraction_leaf': 0.0,\n",
       " 'presort': False,\n",
       " 'random_state': None,\n",
       " 'splitter': 'best'}"
      ]
     },
     "metadata": {},
     "output_type": "display_data"
    },
    {
     "name": "stdout",
     "output_type": "stream",
     "text": [
      "Parameter 'max_depth' is 4 for the optimal model.\n"
     ]
    }
   ],
   "source": [
    "# Fit the training data to the model using grid search\n",
    "reg = fit_model(X_train, y_train)\n",
    "\n",
    "if fyi: display(reg.get_params())\n",
    "# Produce the value for 'max_depth'\n",
    "print(\"Parameter 'max_depth' is {} for the optimal model.\".format(reg.get_params()['max_depth']))"
   ]
  },
  {
   "cell_type": "markdown",
   "metadata": {},
   "source": [
    "**Answer: **\n",
    "\n",
    ">After running this model several times, I got various result of ‘max_depth' parameter between 3 and 5.  \n",
    "The '4' was the most occurred for this optimal model, and was same as my guess 'max_depth = 4' in Question 6.\n"
   ]
  },
  {
   "cell_type": "markdown",
   "metadata": {},
   "source": [
    "### Question 10 - Predicting Selling Prices\n",
    "Imagine that you were a real estate agent in the Boston area looking to use this model to help price homes owned by your clients that they wish to sell. You have collected the following information from three of your clients:\n",
    "\n",
    "| Feature | Client 1 | Client 2 | Client 3 |\n",
    "| :---: | :---: | :---: | :---: |\n",
    "| Total number of rooms in home | 5 rooms | 4 rooms | 8 rooms |\n",
    "| Neighborhood poverty level (as %) | 17% | 32% | 3% |\n",
    "| Student-teacher ratio of nearby schools | 15-to-1 | 22-to-1 | 12-to-1 |\n",
    "*What price would you recommend each client sell his/her home at? Do these prices seem reasonable given the values for the respective features?*  \n",
    "**Hint:** Use the statistics you calculated in the **Data Exploration** section to help justify your response.  \n",
    "\n",
    "Run the code block below to have your optimized model make predictions for each client's home."
   ]
  },
  {
   "cell_type": "code",
   "execution_count": 106,
   "metadata": {
    "collapsed": false
   },
   "outputs": [
    {
     "name": "stdout",
     "output_type": "stream",
     "text": [
      "Predicted selling price for Client 1's home: $344,884.62\n",
      "Predicted selling price for Client 2's home: $229,793.62\n",
      "Predicted selling price for Client 3's home: $892,850.00\n"
     ]
    }
   ],
   "source": [
    "# Produce a matrix for client data\n",
    "client_data = [[5, 17, 15], # Client 1\n",
    "               [4, 32, 22], # Client 2\n",
    "               [8, 3, 12]]  # Client 3\n",
    "pred1 = reg.predict( client_data )\n",
    "if debug: display( pred1 )\n",
    "    \n",
    "# Show predictions\n",
    "for i, price in enumerate( pred1 ) :\n",
    "    print (\"Predicted selling price for Client {}'s home: ${:,.2f}\".format(i+1, price))"
   ]
  },
  {
   "cell_type": "markdown",
   "metadata": {},
   "source": [
    "**Answer: **\n",
    "\n",
    ">Assumed if I were a real estate agent in the Boston area, I would use my predicted selling price for the following clients:\n",
    "- Selling price for Client 1's home: \\$344,884.62\n",
    "- Selling price for Client 2's home: \\$229,793.62\n",
    "- Selling price for Client 3's home: \\$892,850.00\n"
   ]
  },
  {
   "cell_type": "code",
   "execution_count": 110,
   "metadata": {
    "collapsed": false
   },
   "outputs": [
    {
     "name": "stdout",
     "output_type": "stream",
     "text": [
      "\n",
      "Overall comparing with data exploration \n",
      "Statistics for Boston housing dataset: \n",
      "\n",
      "\tTotal count:  489\n",
      "\tMinimum price: $105,000.00\n",
      "\tMaximum price: $1,024,800.00\n",
      "\tMean price: $454,342.94\n",
      "\tMedian price $438,900.00\n",
      "\tStandard deviation of prices: $165,171.13\n",
      "\n",
      "Client 1 comparing with data exploration if a room of 5 \n"
     ]
    },
    {
     "data": {
      "text/html": [
       "<div>\n",
       "<table border=\"1\" class=\"dataframe\">\n",
       "  <thead>\n",
       "    <tr style=\"text-align: right;\">\n",
       "      <th></th>\n",
       "      <th>RM</th>\n",
       "      <th>LSTAT</th>\n",
       "      <th>PTRATIO</th>\n",
       "      <th>MEDV</th>\n",
       "    </tr>\n",
       "  </thead>\n",
       "  <tbody>\n",
       "    <tr>\n",
       "      <th>count</th>\n",
       "      <td>156.000000</td>\n",
       "      <td>156.000000</td>\n",
       "      <td>156.000000</td>\n",
       "      <td>156.000000</td>\n",
       "    </tr>\n",
       "    <tr>\n",
       "      <th>mean</th>\n",
       "      <td>5.729455</td>\n",
       "      <td>16.704487</td>\n",
       "      <td>19.041026</td>\n",
       "      <td>364215.384615</td>\n",
       "    </tr>\n",
       "    <tr>\n",
       "      <th>std</th>\n",
       "      <td>0.229140</td>\n",
       "      <td>6.265877</td>\n",
       "      <td>1.946937</td>\n",
       "      <td>97426.503087</td>\n",
       "    </tr>\n",
       "    <tr>\n",
       "      <th>min</th>\n",
       "      <td>5.012000</td>\n",
       "      <td>5.570000</td>\n",
       "      <td>13.000000</td>\n",
       "      <td>105000.000000</td>\n",
       "    </tr>\n",
       "    <tr>\n",
       "      <th>25%</th>\n",
       "      <td>5.603500</td>\n",
       "      <td>12.025000</td>\n",
       "      <td>18.400000</td>\n",
       "      <td>302400.000000</td>\n",
       "    </tr>\n",
       "    <tr>\n",
       "      <th>50%</th>\n",
       "      <td>5.805000</td>\n",
       "      <td>15.735000</td>\n",
       "      <td>19.700000</td>\n",
       "      <td>389550.000000</td>\n",
       "    </tr>\n",
       "    <tr>\n",
       "      <th>75%</th>\n",
       "      <td>5.896500</td>\n",
       "      <td>19.960000</td>\n",
       "      <td>20.200000</td>\n",
       "      <td>428400.000000</td>\n",
       "    </tr>\n",
       "    <tr>\n",
       "      <th>max</th>\n",
       "      <td>5.998000</td>\n",
       "      <td>34.410000</td>\n",
       "      <td>22.000000</td>\n",
       "      <td>585900.000000</td>\n",
       "    </tr>\n",
       "  </tbody>\n",
       "</table>\n",
       "</div>"
      ],
      "text/plain": [
       "               RM       LSTAT     PTRATIO           MEDV\n",
       "count  156.000000  156.000000  156.000000     156.000000\n",
       "mean     5.729455   16.704487   19.041026  364215.384615\n",
       "std      0.229140    6.265877    1.946937   97426.503087\n",
       "min      5.012000    5.570000   13.000000  105000.000000\n",
       "25%      5.603500   12.025000   18.400000  302400.000000\n",
       "50%      5.805000   15.735000   19.700000  389550.000000\n",
       "75%      5.896500   19.960000   20.200000  428400.000000\n",
       "max      5.998000   34.410000   22.000000  585900.000000"
      ]
     },
     "metadata": {},
     "output_type": "display_data"
    },
    {
     "name": "stdout",
     "output_type": "stream",
     "text": [
      "\n",
      "If room is  5\n",
      "Statistics for Boston housing dataset: \n",
      "\n",
      "\tTotal count:  156\n",
      "\tMinimum price: $105,000.00\n",
      "\tMaximum price: $585,900.00\n",
      "\tMean price: $364,215.38\n",
      "\tMedian price $389,550.00\n",
      "\tStandard deviation of prices: $97,113.74\n",
      "\n",
      "Client 2 comparing with data exploration if a room of 4\n"
     ]
    },
    {
     "data": {
      "text/html": [
       "<div>\n",
       "<table border=\"1\" class=\"dataframe\">\n",
       "  <thead>\n",
       "    <tr style=\"text-align: right;\">\n",
       "      <th></th>\n",
       "      <th>RM</th>\n",
       "      <th>LSTAT</th>\n",
       "      <th>PTRATIO</th>\n",
       "      <th>MEDV</th>\n",
       "    </tr>\n",
       "  </thead>\n",
       "  <tbody>\n",
       "    <tr>\n",
       "      <th>count</th>\n",
       "      <td>12.000000</td>\n",
       "      <td>12.000000</td>\n",
       "      <td>12.000000</td>\n",
       "      <td>12.000000</td>\n",
       "    </tr>\n",
       "    <tr>\n",
       "      <th>mean</th>\n",
       "      <td>4.666167</td>\n",
       "      <td>28.535000</td>\n",
       "      <td>19.133333</td>\n",
       "      <td>277025.000000</td>\n",
       "    </tr>\n",
       "    <tr>\n",
       "      <th>std</th>\n",
       "      <td>0.313230</td>\n",
       "      <td>8.171604</td>\n",
       "      <td>2.133854</td>\n",
       "      <td>86494.688486</td>\n",
       "    </tr>\n",
       "    <tr>\n",
       "      <th>min</th>\n",
       "      <td>4.138000</td>\n",
       "      <td>12.640000</td>\n",
       "      <td>14.700000</td>\n",
       "      <td>147000.000000</td>\n",
       "    </tr>\n",
       "    <tr>\n",
       "      <th>25%</th>\n",
       "      <td>4.481250</td>\n",
       "      <td>27.045000</td>\n",
       "      <td>19.750000</td>\n",
       "      <td>218925.000000</td>\n",
       "    </tr>\n",
       "    <tr>\n",
       "      <th>50%</th>\n",
       "      <td>4.766000</td>\n",
       "      <td>30.075000</td>\n",
       "      <td>20.200000</td>\n",
       "      <td>269850.000000</td>\n",
       "    </tr>\n",
       "    <tr>\n",
       "      <th>75%</th>\n",
       "      <td>4.911000</td>\n",
       "      <td>34.470000</td>\n",
       "      <td>20.200000</td>\n",
       "      <td>314475.000000</td>\n",
       "    </tr>\n",
       "    <tr>\n",
       "      <th>max</th>\n",
       "      <td>4.973000</td>\n",
       "      <td>37.970000</td>\n",
       "      <td>20.200000</td>\n",
       "      <td>459900.000000</td>\n",
       "    </tr>\n",
       "  </tbody>\n",
       "</table>\n",
       "</div>"
      ],
      "text/plain": [
       "              RM      LSTAT    PTRATIO           MEDV\n",
       "count  12.000000  12.000000  12.000000      12.000000\n",
       "mean    4.666167  28.535000  19.133333  277025.000000\n",
       "std     0.313230   8.171604   2.133854   86494.688486\n",
       "min     4.138000  12.640000  14.700000  147000.000000\n",
       "25%     4.481250  27.045000  19.750000  218925.000000\n",
       "50%     4.766000  30.075000  20.200000  269850.000000\n",
       "75%     4.911000  34.470000  20.200000  314475.000000\n",
       "max     4.973000  37.970000  20.200000  459900.000000"
      ]
     },
     "metadata": {},
     "output_type": "display_data"
    },
    {
     "name": "stdout",
     "output_type": "stream",
     "text": [
      "\n",
      "If room is  4\n",
      "Statistics for Boston housing dataset: \n",
      "\n",
      "\tTotal count:  12\n",
      "\tMinimum price: $147,000.00\n",
      "\tMaximum price: $459,900.00\n",
      "\tMean price: $277,025.00\n",
      "\tMedian price $269,850.00\n",
      "\tStandard deviation of prices: $82,812.36\n",
      "\n",
      "Client 3 comparing with data exploration if a room of 8\n"
     ]
    },
    {
     "data": {
      "text/html": [
       "<div>\n",
       "<table border=\"1\" class=\"dataframe\">\n",
       "  <thead>\n",
       "    <tr style=\"text-align: right;\">\n",
       "      <th></th>\n",
       "      <th>RM</th>\n",
       "      <th>LSTAT</th>\n",
       "      <th>PTRATIO</th>\n",
       "      <th>MEDV</th>\n",
       "    </tr>\n",
       "  </thead>\n",
       "  <tbody>\n",
       "    <tr>\n",
       "      <th>count</th>\n",
       "      <td>7.000000</td>\n",
       "      <td>7.000000</td>\n",
       "      <td>7.000000</td>\n",
       "      <td>7.000000e+00</td>\n",
       "    </tr>\n",
       "    <tr>\n",
       "      <th>mean</th>\n",
       "      <td>8.230857</td>\n",
       "      <td>3.907143</td>\n",
       "      <td>17.100000</td>\n",
       "      <td>9.081000e+05</td>\n",
       "    </tr>\n",
       "    <tr>\n",
       "      <th>std</th>\n",
       "      <td>0.131729</td>\n",
       "      <td>1.077292</td>\n",
       "      <td>1.913984</td>\n",
       "      <td>9.151164e+04</td>\n",
       "    </tr>\n",
       "    <tr>\n",
       "      <th>min</th>\n",
       "      <td>8.040000</td>\n",
       "      <td>2.470000</td>\n",
       "      <td>13.000000</td>\n",
       "      <td>7.896000e+05</td>\n",
       "    </tr>\n",
       "    <tr>\n",
       "      <th>25%</th>\n",
       "      <td>8.158000</td>\n",
       "      <td>3.335000</td>\n",
       "      <td>17.400000</td>\n",
       "      <td>8.442000e+05</td>\n",
       "    </tr>\n",
       "    <tr>\n",
       "      <th>50%</th>\n",
       "      <td>8.259000</td>\n",
       "      <td>3.950000</td>\n",
       "      <td>17.400000</td>\n",
       "      <td>8.988000e+05</td>\n",
       "    </tr>\n",
       "    <tr>\n",
       "      <th>75%</th>\n",
       "      <td>8.301500</td>\n",
       "      <td>4.175000</td>\n",
       "      <td>17.700000</td>\n",
       "      <td>9.775500e+05</td>\n",
       "    </tr>\n",
       "    <tr>\n",
       "      <th>max</th>\n",
       "      <td>8.398000</td>\n",
       "      <td>5.910000</td>\n",
       "      <td>19.100000</td>\n",
       "      <td>1.024800e+06</td>\n",
       "    </tr>\n",
       "  </tbody>\n",
       "</table>\n",
       "</div>"
      ],
      "text/plain": [
       "             RM     LSTAT    PTRATIO          MEDV\n",
       "count  7.000000  7.000000   7.000000  7.000000e+00\n",
       "mean   8.230857  3.907143  17.100000  9.081000e+05\n",
       "std    0.131729  1.077292   1.913984  9.151164e+04\n",
       "min    8.040000  2.470000  13.000000  7.896000e+05\n",
       "25%    8.158000  3.335000  17.400000  8.442000e+05\n",
       "50%    8.259000  3.950000  17.400000  8.988000e+05\n",
       "75%    8.301500  4.175000  17.700000  9.775500e+05\n",
       "max    8.398000  5.910000  19.100000  1.024800e+06"
      ]
     },
     "metadata": {},
     "output_type": "display_data"
    },
    {
     "name": "stdout",
     "output_type": "stream",
     "text": [
      "\n",
      "If room is  8\n",
      "Statistics for Boston housing dataset: \n",
      "\n",
      "\tTotal count:  7\n",
      "\tMinimum price: $789,600.00\n",
      "\tMaximum price: $1,024,800.00\n",
      "\tMean price: $908,100.00\n",
      "\tMedian price $898,800.00\n",
      "\tStandard deviation of prices: $84,723.31\n"
     ]
    }
   ],
   "source": [
    "print ('\\nOverall comparing with data exploration ')\n",
    "calc_stats( prices )\n",
    "\n",
    "print ('\\nClient 1 comparing with data exploration if a room of 5 ')\n",
    "calc_stats_byrm(5, True)  \n",
    "print ('\\nClient 2 comparing with data exploration if a room of 4')\n",
    "calc_stats_byrm(4, True)\n",
    "print ('\\nClient 3 comparing with data exploration if a room of 8')\n",
    "calc_stats_byrm(8, True)    "
   ]
  },
  {
   "cell_type": "markdown",
   "metadata": {},
   "source": [
    "**Answer:**\n",
    "\n",
    ">Here was data exploration descriptive statistics based on the Boston housing dataset \n",
    "\n",
    "| RM | House total count | Minimum price | Maximum price | Mean price | Median price| Standard deviation of prices |  \n",
    "| :---: | :----: | :---------: | :---------: | :---------: | :---------: | :---------: |  \n",
    "| ALL |489 |  \\$105,000 | \\$1,024,800 |\\$454,343 | \\$438,900  |\\$165,171 | \n",
    "| 5 | 156 | \\$105,000 | \\$585,900 | \\$364,215 | \\$389,550 | \\$97,114 |\n",
    "| 4 | 12 | \\$147,000 | \\$459,900 | \\$277,025 | \\$269,850 | \\$82,812 |\n",
    "| 8 | 7 | \\$789,600 | \\$1,024,800 | \\$908,100 | \\$898,800 | \\$84,723 | \n",
    "    \n",
    ">Next, I compared with my predicted House Selling Price \n",
    "\n",
    "\n",
    "| House Selling Price | RM | MEDV quantile || LSTAT quantile||PTRATIO quantile|  \n",
    "| :----------------: | :----: | :---------: |-| :---------: |-| :---------: |  \n",
    "|Client 1  \\$344,885 | 5 | 25%-50% || 50%-75% || 1% |  \n",
    "|Client 2  \\$229,793 | 4 | 25%+ || 50-75%+ || 99% |  \n",
    "|Client 3  \\$892,850 | 8 | 50%+ || 25%- ||  1% |   \n",
    "\n",
    ">Answer if these prices reasonable for the respective features \n",
    "- Client 1- suggest to sell the house with \\$344,885 price\n",
    "    - Quantile of predicted selling price for 5 rooms: 25-50%, 50-75% poor neighborhood, 1%  students per teacher \n",
    "    - Rationale: The most home sold with 5 rooms, meaning more buyers were looking for 5 rooms rather than 4 or 8 rooms\n",
    "    - Below average selling price, average more in poor neighborhood, lowest ratio of students per teacher\n",
    "- Client 2 - suggest to sell with \\$229,793 price\n",
    "    - Quantile of predicted selling price for 4 rooms: 25% more, 50-75% poverty level, 99% students per teacher\n",
    "    - Rationale: Low selling price because average more in poor neighborhood and high ratio of students per teacher \n",
    "- Client 3 - suggest to sell the house with \\$892,850 price\n",
    "    - Quantile of predicted selling price for 8 rooms: 50% more, less 25% poor neighborhood, 1% students per teacher\n",
    "    - Rationale: Average selling price, low in upper class, lowest ratio of students per teacher\n"
   ]
  },
  {
   "cell_type": "markdown",
   "metadata": {},
   "source": [
    "### Sensitivity\n",
    "An optimal model is not necessarily a robust model. Sometimes, a model is either too complex or too simple to sufficiently generalize to new data. Sometimes, a model could use a learning algorithm that is not appropriate for the structure of the data given. Other times, the data itself could be too noisy or contain too few samples to allow a model to adequately capture the target variable — i.e., the model is underfitted. Run the code cell below to run the `fit_model` function ten times with different training and testing sets to see how the prediction for a specific client changes with the data it's trained on."
   ]
  },
  {
   "cell_type": "code",
   "execution_count": 116,
   "metadata": {
    "collapsed": false
   },
   "outputs": [
    {
     "name": "stdout",
     "output_type": "stream",
     "text": [
      "Trial 1: $348,033.33\n",
      "Trial 2: $419,700.00\n",
      "Trial 3: $413,831.25\n",
      "Trial 4: $420,622.22\n",
      "Trial 5: $413,334.78\n",
      "Trial 6: $411,931.58\n",
      "Trial 7: $400,350.00\n",
      "Trial 8: $383,700.00\n",
      "Trial 9: $402,531.82\n",
      "Trial 10: $379,125.00\n",
      "\n",
      "Range in prices: $72,588.89\n"
     ]
    }
   ],
   "source": [
    "vs.PredictTrials(features, prices, fit_model, client_data)"
   ]
  },
  {
   "cell_type": "markdown",
   "metadata": {},
   "source": [
    "### Question 11 - Applicability\n",
    "*In a few sentences, discuss whether the constructed model should or should not be used in a real-world setting.*  \n",
    "**Hint:** Some questions to answering:\n",
    "- *How relevant today is data that was collected from 1978?*\n",
    "- *Are the features present in the data sufficient to describe a home?*\n",
    "- *Is the model robust enough to make consistent predictions?*\n",
    "- *Would data collected in an urban city like Boston be applicable in a rural city?*"
   ]
  },
  {
   "cell_type": "markdown",
   "metadata": {},
   "source": [
    "**Answer: **\n",
    "\n",
    ">This constructed model should not be used in today's real-world setting due to \n",
    "\n",
    ">The data that was collected 38 years ago would be NOT relevant to today's housing price in assumption of the 'MEDV’ feature has been multiplicatively scaled to account for 35 years of market inflation.\n",
    "- The above RM, LSTAT, PTRATIO features could be still good candidates, but not sufficient to impact real-world housing trend.\n",
    "- Like new influenced factors such as job market/salaries, evolved technology built-in neighborhood, commuting distance/time, publish transportation, education location availability, parks & recreation availability, currency inflation, demographics and etc. would impact on house price today\n",
    "\n",
    ">The model sensitivity range in prices after 10 trials was \\$72,588.89\n",
    "- \\-20.85% of minimum price \\$348,033.33\n",
    "- 17.30% of maximum price \\$419,700  \n",
    "Both of percentages were significant over 10%. Therefore, the model was not robust enough to make consistent prediction.\n",
    "\n",
    ">This project introduction has indicated that the data was collected in an urban city like Boston, so, above features suitable for urban city might not be applicable in a rural city.  \n"
   ]
  },
  {
   "cell_type": "markdown",
   "metadata": {},
   "source": [
    "> **Note**: Once you have completed all of the code implementations and successfully answered each question above, you may finalize your work by exporting the iPython Notebook as an HTML document. You can do this by using the menu above and navigating to  \n",
    "**File -> Download as -> HTML (.html)**. Include the finished document along with this notebook as your submission."
   ]
  },
  {
   "cell_type": "markdown",
   "metadata": {},
   "source": [
    "**Reference:**\n",
    "- [Housing Data Set from UCI repository](https://archive.ics.uci.edu/ml/datasets/Housing)\n",
    "- [Machine learning](https://en.wikipedia.org/wiki/Machine_learning)\n",
    "    - [scikit-learn in Python](http://scikit-learn.org/stable/index.html)\n",
    "    - [Microsoft Azure Machine Learning Studio Modules](https://msdn.microsoft.com/en-us/library/azure/dn906033)\n",
    "- [Supervised learning](https://en.wikipedia.org/wiki/Supervised_learning)\n",
    "    - [Why Data Scientists Split Data into Train and Test](http://info.salford-systems.com/blog/bid/337783/Why-Data-Scientists-Split-Data-into-Train-and-Test)\n",
    "    - [Cross-validation (statistics) wiki](https://en.wikipedia.org/wiki/Cross-validation_%28statistics%29)  \n",
    "    - [Overfitting|Overtraining|Robust|Generalization](https://gerardnico.com/wiki/data_mining/overfitting)\n",
    "    - [Validation curves: plotting scores to evaluate models](http://scikit-learn.org/stable/modules/learning_curve.html)\n",
    "    - [Learning curve](https://en.wikipedia.org/wiki/Learning_curve)\n",
    "    - [Learning curve by Prof Andrew Ng](https://www.youtube.com/watch?v=g4XluwGYPaA)\n",
    "    - [Bias–variance tradeoff](https://en.wikipedia.org/wiki/Bias%E2%80%93variance_tradeoff)\n",
    "    - [Sensitivity analysis](https://en.wikipedia.org/wiki/Sensitivity_analysis)\n",
    "- [Google](http://google.com)"
   ]
  }
 ],
 "metadata": {
  "anaconda-cloud": {},
  "kernelspec": {
   "display_name": "Python 3",
   "language": "python",
   "name": "python3"
  },
  "language_info": {
   "codemirror_mode": {
    "name": "ipython",
    "version": 3
   },
   "file_extension": ".py",
   "mimetype": "text/x-python",
   "name": "python",
   "nbconvert_exporter": "python",
   "pygments_lexer": "ipython3",
   "version": "3.6.0"
  }
 },
 "nbformat": 4,
 "nbformat_minor": 0
}
